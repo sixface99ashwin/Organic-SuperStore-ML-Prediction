{
 "cells": [
  {
   "cell_type": "markdown",
   "id": "8dabe0d8",
   "metadata": {},
   "source": [
    "# Model Training"
   ]
  },
  {
   "cell_type": "markdown",
   "id": "7984e6bf",
   "metadata": {},
   "source": [
    "## 1.1 Import Data and Required Packages\n",
    "Importing Pandas, Numpy, Matplotlib, Seaborn and Warings Library."
   ]
  },
  {
   "cell_type": "code",
   "execution_count": 1,
   "id": "ccef76b6",
   "metadata": {},
   "outputs": [],
   "source": [
    "# Basic Import\n",
    "import numpy as np\n",
    "import pandas as pd\n",
    "import matplotlib.pyplot as plt \n",
    "import seaborn as sns\n",
    "# Modelling\n",
    "from sklearn.metrics import accuracy_score, precision_score, recall_score, f1_score, confusion_matrix\n",
    "from sklearn.preprocessing import OneHotEncoder, StandardScaler\n",
    "from sklearn.compose import ColumnTransformer\n",
    "from sklearn.pipeline import Pipeline\n",
    "from sklearn.neighbors import KNeighborsClassifier\n",
    "from sklearn.tree import DecisionTreeClassifier\n",
    "from sklearn.ensemble import RandomForestClassifier, AdaBoostClassifier\n",
    "from sklearn.svm import SVC\n",
    "from sklearn.linear_model import LogisticRegression\n",
    "from sklearn.model_selection import RandomizedSearchCV\n",
    "import joblib\n",
    "from catboost import CatBoostClassifier\n",
    "from xgboost import XGBClassifier\n",
    "from sklearn.datasets import make_classification\n",
    "from sklearn.model_selection import train_test_split, StratifiedKFold,GridSearchCV\n",
    "import warnings"
   ]
  },
  {
   "cell_type": "markdown",
   "id": "91511ffc",
   "metadata": {},
   "source": [
    "## Import the CSV Data as Pandas DataFrame"
   ]
  },
  {
   "cell_type": "code",
   "execution_count": 2,
   "id": "cbeb5b0e",
   "metadata": {},
   "outputs": [],
   "source": [
    "df = pd.read_csv('data/outlier_removed_organics.csv')"
   ]
  },
  {
   "cell_type": "markdown",
   "id": "e24ebecb",
   "metadata": {},
   "source": [
    "## Show Top 5 Records"
   ]
  },
  {
   "cell_type": "code",
   "execution_count": 3,
   "id": "2f75da60",
   "metadata": {
    "scrolled": true
   },
   "outputs": [
    {
     "data": {
      "text/html": [
       "<div>\n",
       "<style scoped>\n",
       "    .dataframe tbody tr th:only-of-type {\n",
       "        vertical-align: middle;\n",
       "    }\n",
       "\n",
       "    .dataframe tbody tr th {\n",
       "        vertical-align: top;\n",
       "    }\n",
       "\n",
       "    .dataframe thead th {\n",
       "        text-align: right;\n",
       "    }\n",
       "</style>\n",
       "<table border=\"1\" class=\"dataframe\">\n",
       "  <thead>\n",
       "    <tr style=\"text-align: right;\">\n",
       "      <th></th>\n",
       "      <th>Gender</th>\n",
       "      <th>Geographic Region</th>\n",
       "      <th>Loyalty Status</th>\n",
       "      <th>Neighborhood Cluster-7 Level</th>\n",
       "      <th>Affluence Grade</th>\n",
       "      <th>Age</th>\n",
       "      <th>Loyalty Card Tenure</th>\n",
       "      <th>ORGANICS</th>\n",
       "    </tr>\n",
       "  </thead>\n",
       "  <tbody>\n",
       "    <tr>\n",
       "      <th>0</th>\n",
       "      <td>F</td>\n",
       "      <td>Midlands</td>\n",
       "      <td>Silver</td>\n",
       "      <td>D</td>\n",
       "      <td>5.0</td>\n",
       "      <td>70.0</td>\n",
       "      <td>8.0</td>\n",
       "      <td>1.0</td>\n",
       "    </tr>\n",
       "    <tr>\n",
       "      <th>1</th>\n",
       "      <td>M</td>\n",
       "      <td>Midlands</td>\n",
       "      <td>Tin</td>\n",
       "      <td>F</td>\n",
       "      <td>10.0</td>\n",
       "      <td>65.0</td>\n",
       "      <td>7.0</td>\n",
       "      <td>1.0</td>\n",
       "    </tr>\n",
       "    <tr>\n",
       "      <th>2</th>\n",
       "      <td>F</td>\n",
       "      <td>Midlands</td>\n",
       "      <td>Tin</td>\n",
       "      <td>A</td>\n",
       "      <td>11.0</td>\n",
       "      <td>68.0</td>\n",
       "      <td>8.0</td>\n",
       "      <td>0.0</td>\n",
       "    </tr>\n",
       "    <tr>\n",
       "      <th>3</th>\n",
       "      <td>F</td>\n",
       "      <td>Midlands</td>\n",
       "      <td>Tin</td>\n",
       "      <td>A</td>\n",
       "      <td>11.0</td>\n",
       "      <td>74.0</td>\n",
       "      <td>8.0</td>\n",
       "      <td>0.0</td>\n",
       "    </tr>\n",
       "    <tr>\n",
       "      <th>4</th>\n",
       "      <td>M</td>\n",
       "      <td>North</td>\n",
       "      <td>Tin</td>\n",
       "      <td>D</td>\n",
       "      <td>13.0</td>\n",
       "      <td>62.0</td>\n",
       "      <td>5.0</td>\n",
       "      <td>0.0</td>\n",
       "    </tr>\n",
       "  </tbody>\n",
       "</table>\n",
       "</div>"
      ],
      "text/plain": [
       "  Gender Geographic Region Loyalty Status Neighborhood Cluster-7 Level  \\\n",
       "0      F          Midlands         Silver                            D   \n",
       "1      M          Midlands            Tin                            F   \n",
       "2      F          Midlands            Tin                            A   \n",
       "3      F          Midlands            Tin                            A   \n",
       "4      M             North            Tin                            D   \n",
       "\n",
       "   Affluence Grade   Age  Loyalty Card Tenure  ORGANICS  \n",
       "0              5.0  70.0                  8.0       1.0  \n",
       "1             10.0  65.0                  7.0       1.0  \n",
       "2             11.0  68.0                  8.0       0.0  \n",
       "3             11.0  74.0                  8.0       0.0  \n",
       "4             13.0  62.0                  5.0       0.0  "
      ]
     },
     "execution_count": 3,
     "metadata": {},
     "output_type": "execute_result"
    }
   ],
   "source": [
    "df.head()"
   ]
  },
  {
   "cell_type": "markdown",
   "id": "7e09c43e",
   "metadata": {},
   "source": [
    "## Preparing X and Y variables"
   ]
  },
  {
   "cell_type": "code",
   "execution_count": 4,
   "id": "c82372b0",
   "metadata": {},
   "outputs": [],
   "source": [
    "X = df.drop(columns=['ORGANICS'],axis=1)"
   ]
  },
  {
   "cell_type": "code",
   "execution_count": 5,
   "id": "d9da1829",
   "metadata": {},
   "outputs": [
    {
     "data": {
      "text/html": [
       "<div>\n",
       "<style scoped>\n",
       "    .dataframe tbody tr th:only-of-type {\n",
       "        vertical-align: middle;\n",
       "    }\n",
       "\n",
       "    .dataframe tbody tr th {\n",
       "        vertical-align: top;\n",
       "    }\n",
       "\n",
       "    .dataframe thead th {\n",
       "        text-align: right;\n",
       "    }\n",
       "</style>\n",
       "<table border=\"1\" class=\"dataframe\">\n",
       "  <thead>\n",
       "    <tr style=\"text-align: right;\">\n",
       "      <th></th>\n",
       "      <th>Gender</th>\n",
       "      <th>Geographic Region</th>\n",
       "      <th>Loyalty Status</th>\n",
       "      <th>Neighborhood Cluster-7 Level</th>\n",
       "      <th>Affluence Grade</th>\n",
       "      <th>Age</th>\n",
       "      <th>Loyalty Card Tenure</th>\n",
       "    </tr>\n",
       "  </thead>\n",
       "  <tbody>\n",
       "    <tr>\n",
       "      <th>0</th>\n",
       "      <td>F</td>\n",
       "      <td>Midlands</td>\n",
       "      <td>Silver</td>\n",
       "      <td>D</td>\n",
       "      <td>5.0</td>\n",
       "      <td>70.0</td>\n",
       "      <td>8.0</td>\n",
       "    </tr>\n",
       "    <tr>\n",
       "      <th>1</th>\n",
       "      <td>M</td>\n",
       "      <td>Midlands</td>\n",
       "      <td>Tin</td>\n",
       "      <td>F</td>\n",
       "      <td>10.0</td>\n",
       "      <td>65.0</td>\n",
       "      <td>7.0</td>\n",
       "    </tr>\n",
       "    <tr>\n",
       "      <th>2</th>\n",
       "      <td>F</td>\n",
       "      <td>Midlands</td>\n",
       "      <td>Tin</td>\n",
       "      <td>A</td>\n",
       "      <td>11.0</td>\n",
       "      <td>68.0</td>\n",
       "      <td>8.0</td>\n",
       "    </tr>\n",
       "    <tr>\n",
       "      <th>3</th>\n",
       "      <td>F</td>\n",
       "      <td>Midlands</td>\n",
       "      <td>Tin</td>\n",
       "      <td>A</td>\n",
       "      <td>11.0</td>\n",
       "      <td>74.0</td>\n",
       "      <td>8.0</td>\n",
       "    </tr>\n",
       "    <tr>\n",
       "      <th>4</th>\n",
       "      <td>M</td>\n",
       "      <td>North</td>\n",
       "      <td>Tin</td>\n",
       "      <td>D</td>\n",
       "      <td>13.0</td>\n",
       "      <td>62.0</td>\n",
       "      <td>5.0</td>\n",
       "    </tr>\n",
       "  </tbody>\n",
       "</table>\n",
       "</div>"
      ],
      "text/plain": [
       "  Gender Geographic Region Loyalty Status Neighborhood Cluster-7 Level  \\\n",
       "0      F          Midlands         Silver                            D   \n",
       "1      M          Midlands            Tin                            F   \n",
       "2      F          Midlands            Tin                            A   \n",
       "3      F          Midlands            Tin                            A   \n",
       "4      M             North            Tin                            D   \n",
       "\n",
       "   Affluence Grade   Age  Loyalty Card Tenure  \n",
       "0              5.0  70.0                  8.0  \n",
       "1             10.0  65.0                  7.0  \n",
       "2             11.0  68.0                  8.0  \n",
       "3             11.0  74.0                  8.0  \n",
       "4             13.0  62.0                  5.0  "
      ]
     },
     "execution_count": 5,
     "metadata": {},
     "output_type": "execute_result"
    }
   ],
   "source": [
    "X.head()"
   ]
  },
  {
   "cell_type": "code",
   "execution_count": 6,
   "id": "7ae0d37c",
   "metadata": {},
   "outputs": [],
   "source": [
    "def print_unique_categories(df):\n",
    "    for column in df.columns:\n",
    "        if df[column].dtype == 'object':\n",
    "            unique_values = df[column].unique()\n",
    "            print(f\"Unique values for '{column}': {unique_values}\")"
   ]
  },
  {
   "cell_type": "code",
   "execution_count": 7,
   "id": "50b685ef",
   "metadata": {},
   "outputs": [
    {
     "name": "stdout",
     "output_type": "stream",
     "text": [
      "Unique values for 'Gender': ['F' 'M']\n",
      "Unique values for 'Geographic Region': ['Midlands' 'North' 'South East' 'South West' 'Scottish']\n",
      "Unique values for 'Loyalty Status': ['Silver' 'Tin' 'Gold' 'Platinum']\n",
      "Unique values for 'Neighborhood Cluster-7 Level': ['D' 'F' 'A' 'C' 'B' 'E' 'U']\n"
     ]
    }
   ],
   "source": [
    "print_unique_categories(df)"
   ]
  },
  {
   "cell_type": "code",
   "execution_count": 8,
   "id": "549096c0",
   "metadata": {},
   "outputs": [],
   "source": [
    "y=df['ORGANICS']"
   ]
  },
  {
   "cell_type": "code",
   "execution_count": 9,
   "id": "dbe7bce7",
   "metadata": {
    "scrolled": false
   },
   "outputs": [
    {
     "data": {
      "text/plain": [
       "0    1.0\n",
       "1    1.0\n",
       "2    0.0\n",
       "3    0.0\n",
       "4    0.0\n",
       "Name: ORGANICS, dtype: float64"
      ]
     },
     "execution_count": 9,
     "metadata": {},
     "output_type": "execute_result"
    }
   ],
   "source": [
    "y.head()"
   ]
  },
  {
   "cell_type": "code",
   "execution_count": 10,
   "id": "c4292fb3",
   "metadata": {},
   "outputs": [],
   "source": [
    "# Split the data into training and testing sets\n",
    "X_train, X_test, y_train, y_test = train_test_split(X, y, test_size=0.3, random_state=42, stratify=y)"
   ]
  },
  {
   "cell_type": "code",
   "execution_count": 11,
   "id": "3c710621",
   "metadata": {},
   "outputs": [],
   "source": [
    "# Define the preprocessor\n",
    "numeric_transformer = StandardScaler()\n",
    "oh_transformer = OneHotEncoder()\n",
    "\n",
    "num_features = X.select_dtypes(exclude=\"object\").columns\n",
    "cat_features = X.select_dtypes(include=\"object\").columns\n",
    "\n",
    "preprocessor = ColumnTransformer(\n",
    "    [\n",
    "        (\"OneHotEncoder\", oh_transformer, cat_features),\n",
    "        (\"StandardScaler\", numeric_transformer, num_features),\n",
    "    ]\n",
    ")"
   ]
  },
  {
   "cell_type": "code",
   "execution_count": 12,
   "id": "da053bda",
   "metadata": {
    "scrolled": true
   },
   "outputs": [
    {
     "name": "stdout",
     "output_type": "stream",
     "text": [
      "{'Logistic Regression': Pipeline(steps=[('preprocessor',\n",
      "                 ColumnTransformer(transformers=[('OneHotEncoder',\n",
      "                                                  OneHotEncoder(),\n",
      "                                                  Index(['Gender', 'Geographic Region', 'Loyalty Status',\n",
      "       'Neighborhood Cluster-7 Level'],\n",
      "      dtype='object')),\n",
      "                                                 ('StandardScaler',\n",
      "                                                  StandardScaler(),\n",
      "                                                  Index(['Affluence Grade', 'Age', 'Loyalty Card Tenure'], dtype='object'))])),\n",
      "                ('classifier', LogisticRegression(class_weight='balanced'))]), 'K-Neighbors Classifier': Pipeline(steps=[('preprocessor',\n",
      "                 ColumnTransformer(transformers=[('OneHotEncoder',\n",
      "                                                  OneHotEncoder(),\n",
      "                                                  Index(['Gender', 'Geographic Region', 'Loyalty Status',\n",
      "       'Neighborhood Cluster-7 Level'],\n",
      "      dtype='object')),\n",
      "                                                 ('StandardScaler',\n",
      "                                                  StandardScaler(),\n",
      "                                                  Index(['Affluence Grade', 'Age', 'Loyalty Card Tenure'], dtype='object'))])),\n",
      "                ('classifier', KNeighborsClassifier())]), 'Decision Tree Classifier': Pipeline(steps=[('preprocessor',\n",
      "                 ColumnTransformer(transformers=[('OneHotEncoder',\n",
      "                                                  OneHotEncoder(),\n",
      "                                                  Index(['Gender', 'Geographic Region', 'Loyalty Status',\n",
      "       'Neighborhood Cluster-7 Level'],\n",
      "      dtype='object')),\n",
      "                                                 ('StandardScaler',\n",
      "                                                  StandardScaler(),\n",
      "                                                  Index(['Affluence Grade', 'Age', 'Loyalty Card Tenure'], dtype='object'))])),\n",
      "                ('classifier',\n",
      "                 DecisionTreeClassifier(class_weight='balanced'))]), 'Random Forest Classifier': Pipeline(steps=[('preprocessor',\n",
      "                 ColumnTransformer(transformers=[('OneHotEncoder',\n",
      "                                                  OneHotEncoder(),\n",
      "                                                  Index(['Gender', 'Geographic Region', 'Loyalty Status',\n",
      "       'Neighborhood Cluster-7 Level'],\n",
      "      dtype='object')),\n",
      "                                                 ('StandardScaler',\n",
      "                                                  StandardScaler(),\n",
      "                                                  Index(['Affluence Grade', 'Age', 'Loyalty Card Tenure'], dtype='object'))])),\n",
      "                ('classifier',\n",
      "                 RandomForestClassifier(class_weight='balanced'))]), 'XGBClassifier': Pipeline(steps=[('preprocessor',\n",
      "                 ColumnTransformer(transformers=[('OneHotEncoder',\n",
      "                                                  OneHotEncoder(),\n",
      "                                                  Index(['Gender', 'Geographic Region', 'Loyalty Status',\n",
      "       'Neighborhood Cluster-7 Level'],\n",
      "      dtype='object')),\n",
      "                                                 ('StandardScaler',\n",
      "                                                  StandardScaler(),\n",
      "                                                  Index(['Affluence Grade', 'Age', 'Loyalty Card Tenure'], dtype='object'))])),\n",
      "                ('classifier',\n",
      "                 XGBClassifier(base_score=None, boost...\n",
      "                               feature_types=None, gamma=None, grow_policy=None,\n",
      "                               importance_type=None,\n",
      "                               interaction_constraints=None, learning_rate=None,\n",
      "                               max_bin=None, max_cat_threshold=None,\n",
      "                               max_cat_to_onehot=None, max_delta_step=None,\n",
      "                               max_depth=None, max_leaves=None,\n",
      "                               min_child_weight=None, missing=nan,\n",
      "                               monotone_constraints=None, multi_strategy=None,\n",
      "                               n_estimators=None, n_jobs=None,\n",
      "                               num_parallel_tree=None, random_state=None, ...))]), 'CatBoosting Classifier': Pipeline(steps=[('preprocessor',\n",
      "                 ColumnTransformer(transformers=[('OneHotEncoder',\n",
      "                                                  OneHotEncoder(),\n",
      "                                                  Index(['Gender', 'Geographic Region', 'Loyalty Status',\n",
      "       'Neighborhood Cluster-7 Level'],\n",
      "      dtype='object')),\n",
      "                                                 ('StandardScaler',\n",
      "                                                  StandardScaler(),\n",
      "                                                  Index(['Affluence Grade', 'Age', 'Loyalty Card Tenure'], dtype='object'))])),\n",
      "                ('classifier',\n",
      "                 <catboost.core.CatBoostClassifier object at 0x000001A2F4338610>)]), 'AdaBoost Classifier': Pipeline(steps=[('preprocessor',\n",
      "                 ColumnTransformer(transformers=[('OneHotEncoder',\n",
      "                                                  OneHotEncoder(),\n",
      "                                                  Index(['Gender', 'Geographic Region', 'Loyalty Status',\n",
      "       'Neighborhood Cluster-7 Level'],\n",
      "      dtype='object')),\n",
      "                                                 ('StandardScaler',\n",
      "                                                  StandardScaler(),\n",
      "                                                  Index(['Affluence Grade', 'Age', 'Loyalty Card Tenure'], dtype='object'))])),\n",
      "                ('classifier', AdaBoostClassifier())])}\n"
     ]
    }
   ],
   "source": [
    "# Create a dictionary of classifiers\n",
    "classifiers = {\n",
    "    'Logistic Regression': LogisticRegression(class_weight='balanced'),\n",
    "    'K-Neighbors Classifier': KNeighborsClassifier(),\n",
    "    'Decision Tree Classifier': DecisionTreeClassifier(class_weight='balanced'),\n",
    "    'Random Forest Classifier': RandomForestClassifier(class_weight='balanced'),\n",
    "    'XGBClassifier': XGBClassifier(),\n",
    "    'CatBoosting Classifier': CatBoostClassifier(verbose=False),\n",
    "    'AdaBoost Classifier': AdaBoostClassifier()\n",
    "}\n",
    "\n",
    "# Create a dictionary to store pipeline models\n",
    "pipelines = {}\n",
    "\n",
    "# Create and store pipelines for each classifier\n",
    "for name, classifier in classifiers.items():\n",
    "    pipeline = Pipeline([\n",
    "        ('preprocessor', preprocessor),\n",
    "        ('classifier', classifier)\n",
    "    ])\n",
    "    pipelines[name] = pipeline\n",
    "\n",
    "# Display the created pipelines\n",
    "print(pipelines)"
   ]
  },
  {
   "cell_type": "code",
   "execution_count": 13,
   "id": "9f47b03a",
   "metadata": {},
   "outputs": [],
   "source": [
    "# Define hyperparameters for each classifier\n",
    "param_grid = {\n",
    "    'Logistic Regression': {\n",
    "        'classifier__C': [0.001, 0.01, 0.1, 1, 10, 100, 1000],\n",
    "        'classifier__penalty': ['l1', 'l2']\n",
    "    },\n",
    "    'K-Neighbors Classifier': {\n",
    "        'classifier__n_neighbors': [3, 5, 7],\n",
    "        'classifier__weights': ['uniform', 'distance']\n",
    "    },\n",
    "    'Decision Tree Classifier': {\n",
    "        'classifier__max_depth': [None, 10, 20, 30],\n",
    "        'classifier__min_samples_split': [2, 5, 10],\n",
    "        'classifier__min_samples_leaf': [1, 2, 4]\n",
    "    },\n",
    "    'Random Forest Classifier': {\n",
    "        'classifier__n_estimators': [10, 50, 100, 200],\n",
    "        'classifier__max_depth': [None, 10, 20, 30],\n",
    "        'classifier__min_samples_split': [2, 5, 10],\n",
    "        'classifier__min_samples_leaf': [1, 2, 4]\n",
    "    },\n",
    "    'XGBClassifier': {\n",
    "        'classifier__n_estimators': [50, 100, 200],\n",
    "        'classifier__max_depth': [3, 5, 7],\n",
    "        'classifier__learning_rate': [0.01, 0.1, 0.2]\n",
    "    },\n",
    "    'CatBoosting Classifier': {\n",
    "        'classifier__iterations': [50, 100, 200],\n",
    "        'classifier__depth': [4, 6, 8],\n",
    "        'classifier__learning_rate': [0.01, 0.1, 0.2]\n",
    "    },\n",
    "    'AdaBoost Classifier': {\n",
    "        'classifier__n_estimators': [50, 100, 200],\n",
    "        'classifier__learning_rate': [0.01, 0.1, 0.2]\n",
    "    }\n",
    "}"
   ]
  },
  {
   "cell_type": "code",
   "execution_count": 14,
   "id": "be547059",
   "metadata": {
    "scrolled": true
   },
   "outputs": [
    {
     "name": "stdout",
     "output_type": "stream",
     "text": [
      "Hyperparameter tuning for Logistic Regression\n",
      "Fitting 5 folds for each of 14 candidates, totalling 70 fits\n"
     ]
    },
    {
     "name": "stderr",
     "output_type": "stream",
     "text": [
      "C:\\Users\\Hp\\anaconda3\\Lib\\site-packages\\sklearn\\model_selection\\_validation.py:425: FitFailedWarning: \n",
      "35 fits failed out of a total of 70.\n",
      "The score on these train-test partitions for these parameters will be set to nan.\n",
      "If these failures are not expected, you can try to debug them by setting error_score='raise'.\n",
      "\n",
      "Below are more details about the failures:\n",
      "--------------------------------------------------------------------------------\n",
      "35 fits failed with the following error:\n",
      "Traceback (most recent call last):\n",
      "  File \"C:\\Users\\Hp\\anaconda3\\Lib\\site-packages\\sklearn\\model_selection\\_validation.py\", line 729, in _fit_and_score\n",
      "    estimator.fit(X_train, y_train, **fit_params)\n",
      "  File \"C:\\Users\\Hp\\anaconda3\\Lib\\site-packages\\sklearn\\base.py\", line 1152, in wrapper\n",
      "    return fit_method(estimator, *args, **kwargs)\n",
      "           ^^^^^^^^^^^^^^^^^^^^^^^^^^^^^^^^^^^^^^\n",
      "  File \"C:\\Users\\Hp\\anaconda3\\Lib\\site-packages\\sklearn\\pipeline.py\", line 427, in fit\n",
      "    self._final_estimator.fit(Xt, y, **fit_params_last_step)\n",
      "  File \"C:\\Users\\Hp\\anaconda3\\Lib\\site-packages\\sklearn\\base.py\", line 1152, in wrapper\n",
      "    return fit_method(estimator, *args, **kwargs)\n",
      "           ^^^^^^^^^^^^^^^^^^^^^^^^^^^^^^^^^^^^^^\n",
      "  File \"C:\\Users\\Hp\\anaconda3\\Lib\\site-packages\\sklearn\\linear_model\\_logistic.py\", line 1169, in fit\n",
      "    solver = _check_solver(self.solver, self.penalty, self.dual)\n",
      "             ^^^^^^^^^^^^^^^^^^^^^^^^^^^^^^^^^^^^^^^^^^^^^^^^^^^\n",
      "  File \"C:\\Users\\Hp\\anaconda3\\Lib\\site-packages\\sklearn\\linear_model\\_logistic.py\", line 56, in _check_solver\n",
      "    raise ValueError(\n",
      "ValueError: Solver lbfgs supports only 'l2' or 'none' penalties, got l1 penalty.\n",
      "\n",
      "  warnings.warn(some_fits_failed_message, FitFailedWarning)\n",
      "C:\\Users\\Hp\\anaconda3\\Lib\\site-packages\\sklearn\\model_selection\\_search.py:979: UserWarning: One or more of the test scores are non-finite: [       nan 0.59469645        nan 0.59812927        nan 0.59771825\n",
      "        nan 0.59853328        nan 0.59853328        nan 0.59853328\n",
      "        nan 0.59853328]\n",
      "  warnings.warn(\n"
     ]
    },
    {
     "name": "stdout",
     "output_type": "stream",
     "text": [
      "Best hyperparameters for Logistic Regression: {'classifier__C': 1, 'classifier__penalty': 'l2'}\n",
      "Best F1 score for Logistic Regression: 0.5985332831094371\n",
      "===================================\n",
      "Hyperparameter tuning for K-Neighbors Classifier\n",
      "Fitting 5 folds for each of 6 candidates, totalling 30 fits\n",
      "Best hyperparameters for K-Neighbors Classifier: {'classifier__n_neighbors': 7, 'classifier__weights': 'distance'}\n",
      "Best F1 score for K-Neighbors Classifier: 0.5116825040452943\n",
      "===================================\n",
      "Hyperparameter tuning for Decision Tree Classifier\n",
      "Fitting 5 folds for each of 36 candidates, totalling 180 fits\n",
      "Best hyperparameters for Decision Tree Classifier: {'classifier__max_depth': 10, 'classifier__min_samples_leaf': 4, 'classifier__min_samples_split': 10}\n",
      "Best F1 score for Decision Tree Classifier: 0.5851188240170915\n",
      "===================================\n",
      "Hyperparameter tuning for Random Forest Classifier\n",
      "Fitting 5 folds for each of 144 candidates, totalling 720 fits\n",
      "Best hyperparameters for Random Forest Classifier: {'classifier__max_depth': 10, 'classifier__min_samples_leaf': 4, 'classifier__min_samples_split': 2, 'classifier__n_estimators': 200}\n",
      "Best F1 score for Random Forest Classifier: 0.6268120610810989\n",
      "===================================\n",
      "Hyperparameter tuning for XGBClassifier\n",
      "Fitting 5 folds for each of 27 candidates, totalling 135 fits\n",
      "Best hyperparameters for XGBClassifier: {'classifier__learning_rate': 0.1, 'classifier__max_depth': 3, 'classifier__n_estimators': 200}\n",
      "Best F1 score for XGBClassifier: 0.5897053440432509\n",
      "===================================\n",
      "Hyperparameter tuning for CatBoosting Classifier\n",
      "Fitting 5 folds for each of 27 candidates, totalling 135 fits\n",
      "Best hyperparameters for CatBoosting Classifier: {'classifier__depth': 4, 'classifier__iterations': 200, 'classifier__learning_rate': 0.1}\n",
      "Best F1 score for CatBoosting Classifier: 0.5878008720799206\n",
      "===================================\n",
      "Hyperparameter tuning for AdaBoost Classifier\n",
      "Fitting 5 folds for each of 9 candidates, totalling 45 fits\n",
      "Best hyperparameters for AdaBoost Classifier: {'classifier__learning_rate': 0.2, 'classifier__n_estimators': 100}\n",
      "Best F1 score for AdaBoost Classifier: 0.5860381499318119\n",
      "===================================\n"
     ]
    }
   ],
   "source": [
    "# Create a dictionary to store the best models after hyperparameter tuning\n",
    "best_models = {}\n",
    "\n",
    "# Perform hyperparameter tuning for each classifier\n",
    "for name, pipeline in pipelines.items():\n",
    "    print(f\"Hyperparameter tuning for {name}\")\n",
    "    grid_search = GridSearchCV(pipeline, param_grid[name], cv=5, scoring='f1', verbose=1, n_jobs=-1)\n",
    "    grid_search.fit(X_train, y_train)\n",
    "    \n",
    "    # Store the best model\n",
    "    best_models[name] = grid_search.best_estimator_\n",
    "    \n",
    "    # Print the best hyperparameters\n",
    "    print(f\"Best hyperparameters for {name}: {grid_search.best_params_}\")\n",
    "    print(f\"Best F1 score for {name}: {grid_search.best_score_}\")\n",
    "    print('=' * 35)\n",
    "\n"
   ]
  },
  {
   "cell_type": "code",
   "execution_count": 15,
   "id": "0959f749",
   "metadata": {},
   "outputs": [
    {
     "name": "stdout",
     "output_type": "stream",
     "text": [
      "The best model (Logistic Regression) has been saved as best_model.joblib\n"
     ]
    }
   ],
   "source": [
    "# Find the model with the best F1 score\n",
    "best_model_name = max(best_models, key=lambda k: grid_search.best_score_)\n",
    "best_model = best_models[best_model_name]\n",
    "\n",
    "# Save the best model using joblib or pickle\n",
    "model_filename = \"best_model.joblib\"\n",
    "joblib.dump(best_model, model_filename)\n",
    "print(f'The best model ({best_model_name}) has been saved as {model_filename}')"
   ]
  },
  {
   "cell_type": "code",
   "execution_count": 16,
   "id": "bc2a584d",
   "metadata": {},
   "outputs": [
    {
     "name": "stdout",
     "output_type": "stream",
     "text": [
      "Model performance for Test set:\n",
      "- Accuracy: 0.7213\n",
      "- Precision: 0.5274\n",
      "- Recall: 0.7158\n",
      "- F1 Score: 0.6074\n"
     ]
    }
   ],
   "source": [
    "# Load the best model\n",
    "best_model = joblib.load(\"best_model.joblib\")\n",
    "\n",
    "# Make predictions on the test set\n",
    "y_test_pred = best_model.predict(X_test)\n",
    "\n",
    "# Evaluate the best model on the test set\n",
    "accuracy_test = accuracy_score(y_test, y_test_pred)\n",
    "precision_test = precision_score(y_test, y_test_pred)\n",
    "recall_test = recall_score(y_test, y_test_pred)\n",
    "f1_test = f1_score(y_test, y_test_pred)\n",
    "\n",
    "print('Model performance for Test set:')\n",
    "print(\"- Accuracy: {:.4f}\".format(accuracy_test))\n",
    "print(\"- Precision: {:.4f}\".format(precision_test))\n",
    "print(\"- Recall: {:.4f}\".format(recall_test))\n",
    "print(\"- F1 Score: {:.4f}\".format(f1_test))"
   ]
  },
  {
   "cell_type": "code",
   "execution_count": 17,
   "id": "1ace61d6",
   "metadata": {},
   "outputs": [
    {
     "data": {
      "image/png": "[encoded data removed]",
      "text/plain": [
       "<Figure size 800x600 with 1 Axes>"
      ]
     },
     "metadata": {},
     "output_type": "display_data"
    }
   ],
   "source": [
    "# Create a confusion matrix\n",
    "conf_matrix = confusion_matrix(y_test, y_test_pred)\n",
    "\n",
    "# Plot the confusion matrix heatmap\n",
    "plt.figure(figsize=(8, 6))\n",
    "sns.heatmap(conf_matrix, annot=True, fmt=\"d\", cmap=\"Blues\", cbar=False)\n",
    "plt.title('Confusion Matrix')\n",
    "plt.xlabel('Predicted')\n",
    "plt.ylabel('Actual')\n",
    "plt.show()"
   ]
  },
  {
   "cell_type": "code",
   "execution_count": 19,
   "id": "91849559",
   "metadata": {
    "scrolled": true
   },
   "outputs": [
    {
     "data": {
      "text/html": [
       "<div>\n",
       "<style scoped>\n",
       "    .dataframe tbody tr th:only-of-type {\n",
       "        vertical-align: middle;\n",
       "    }\n",
       "\n",
       "    .dataframe tbody tr th {\n",
       "        vertical-align: top;\n",
       "    }\n",
       "\n",
       "    .dataframe thead th {\n",
       "        text-align: right;\n",
       "    }\n",
       "</style>\n",
       "<table border=\"1\" class=\"dataframe\">\n",
       "  <thead>\n",
       "    <tr style=\"text-align: right;\">\n",
       "      <th></th>\n",
       "      <th>Actual Value</th>\n",
       "      <th>Predicted Value</th>\n",
       "      <th>Match</th>\n",
       "    </tr>\n",
       "  </thead>\n",
       "  <tbody>\n",
       "    <tr>\n",
       "      <th>14284</th>\n",
       "      <td>0.0</td>\n",
       "      <td>1.0</td>\n",
       "      <td>False</td>\n",
       "    </tr>\n",
       "    <tr>\n",
       "      <th>14849</th>\n",
       "      <td>0.0</td>\n",
       "      <td>0.0</td>\n",
       "      <td>True</td>\n",
       "    </tr>\n",
       "    <tr>\n",
       "      <th>10483</th>\n",
       "      <td>0.0</td>\n",
       "      <td>1.0</td>\n",
       "      <td>False</td>\n",
       "    </tr>\n",
       "    <tr>\n",
       "      <th>13100</th>\n",
       "      <td>1.0</td>\n",
       "      <td>1.0</td>\n",
       "      <td>True</td>\n",
       "    </tr>\n",
       "    <tr>\n",
       "      <th>6053</th>\n",
       "      <td>0.0</td>\n",
       "      <td>0.0</td>\n",
       "      <td>True</td>\n",
       "    </tr>\n",
       "    <tr>\n",
       "      <th>...</th>\n",
       "      <td>...</td>\n",
       "      <td>...</td>\n",
       "      <td>...</td>\n",
       "    </tr>\n",
       "    <tr>\n",
       "      <th>10875</th>\n",
       "      <td>0.0</td>\n",
       "      <td>0.0</td>\n",
       "      <td>True</td>\n",
       "    </tr>\n",
       "    <tr>\n",
       "      <th>8049</th>\n",
       "      <td>0.0</td>\n",
       "      <td>0.0</td>\n",
       "      <td>True</td>\n",
       "    </tr>\n",
       "    <tr>\n",
       "      <th>1161</th>\n",
       "      <td>0.0</td>\n",
       "      <td>0.0</td>\n",
       "      <td>True</td>\n",
       "    </tr>\n",
       "    <tr>\n",
       "      <th>14377</th>\n",
       "      <td>1.0</td>\n",
       "      <td>1.0</td>\n",
       "      <td>True</td>\n",
       "    </tr>\n",
       "    <tr>\n",
       "      <th>3701</th>\n",
       "      <td>0.0</td>\n",
       "      <td>0.0</td>\n",
       "      <td>True</td>\n",
       "    </tr>\n",
       "  </tbody>\n",
       "</table>\n",
       "<p>4592 rows × 3 columns</p>\n",
       "</div>"
      ],
      "text/plain": [
       "       Actual Value  Predicted Value  Match\n",
       "14284           0.0              1.0  False\n",
       "14849           0.0              0.0   True\n",
       "10483           0.0              1.0  False\n",
       "13100           1.0              1.0   True\n",
       "6053            0.0              0.0   True\n",
       "...             ...              ...    ...\n",
       "10875           0.0              0.0   True\n",
       "8049            0.0              0.0   True\n",
       "1161            0.0              0.0   True\n",
       "14377           1.0              1.0   True\n",
       "3701            0.0              0.0   True\n",
       "\n",
       "[4592 rows x 3 columns]"
      ]
     },
     "execution_count": 19,
     "metadata": {},
     "output_type": "execute_result"
    }
   ],
   "source": [
    "pred_df=pd.DataFrame({'Actual Value':y_test,'Predicted Value':y_test_pred,'Match': (y_test == y_test_pred)})\n",
    "pred_df"
   ]
  }
 ],
 "metadata": {
  "kernelspec": {
   "display_name": "Python 3 (ipykernel)",
   "language": "python",
   "name": "python3"
  },
  "language_info": {
   "codemirror_mode": {
    "name": "ipython",
    "version": 3
   },
   "file_extension": ".py",
   "mimetype": "text/x-python",
   "name": "python",
   "nbconvert_exporter": "python",
   "pygments_lexer": "ipython3",
   "version": "3.11.5"
  }
 },
 "nbformat": 4,
 "nbformat_minor": 5
}
